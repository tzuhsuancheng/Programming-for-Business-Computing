{
 "cells": [
  {
   "cell_type": "code",
   "execution_count": 1,
   "metadata": {},
   "outputs": [
    {
     "data": {
      "text/plain": [
       "'\\n@author: Tzu\\n@date: 2019/3/18\\n'"
      ]
     },
     "execution_count": 1,
     "metadata": {},
     "output_type": "execute_result"
    }
   ],
   "source": [
    "'''\n",
    "@author: Tzu\n",
    "@date: 2019/3/18\n",
    "'''"
   ]
  },
  {
   "cell_type": "code",
   "execution_count": 12,
   "metadata": {},
   "outputs": [
    {
     "name": "stdout",
     "output_type": "stream",
     "text": [
      "1\n",
      "2\n",
      "3\n",
      "4\n",
      "5\n",
      "3\n",
      "0 2"
     ]
    }
   ],
   "source": [
    "\n",
    "# given information\n",
    "x1 = int(input())\n",
    "y1 = int(input())\n",
    "x2 = int(input())\n",
    "y2 = int(input())\n",
    "x3 = int(input())\n",
    "y3 = int(input())\n",
    "\n",
    "# let b be the slope and a be the intercept\n",
    "b = (y1-y2) / (x1-x2)\n",
    "a = y1 - b * x1\n",
    "\n",
    "# see whether 3 points would be a line\n",
    "if (a + x3 * b) == y3:\n",
    "    line = 1\n",
    "else:\n",
    "    line = 0\n",
    "    \n",
    "# find the max y\n",
    "max_y = 0 \n",
    "y_list = [y1, y2, y3]\n",
    "\n",
    "for i, y in enumerate(y_list):\n",
    "    if y > max_y:\n",
    "        max_y = y\n",
    "        index = i+1\n",
    "        \n",
    "print(str(line) + ' ' + str(index), end = '')"
   ]
  },
  {
   "cell_type": "code",
   "execution_count": 1,
   "metadata": {},
   "outputs": [
    {
     "name": "stdout",
     "output_type": "stream",
     "text": [
      "3\n",
      "10,8,2\n",
      "100,200,300\n",
      "6,3,9\n",
      "1000 1400"
     ]
    }
   ],
   "source": [
    "# Q2\n",
    "'''\n",
    "3\n",
    "10,8,2\n",
    "100,200,300\n",
    "6,3,9\n",
    "'''\n",
    "# given information\n",
    "price = []\n",
    "quantity = []\n",
    "cost = []\n",
    "\n",
    "n = int(input())\n",
    "\n",
    "for i in range(3):\n",
    "    _input = input()\n",
    "    _input_list = _input.split(',')\n",
    "    if i == 0:\n",
    "        for j in _input_list:\n",
    "            price.append(int(j))\n",
    "    elif i == 1:\n",
    "        for j in _input_list:\n",
    "            quantity.append(int(j))\n",
    "    elif i == 2:\n",
    "        for j in _input_list:\n",
    "            cost.append(int(j))\n",
    "            \n",
    "# if only buy one product\n",
    "max_profit1 = 0\n",
    "for i in range(n):\n",
    "    profit1 = (price[i] - cost[i]) * quantity[i] \n",
    "    if profit1 > max_profit1:\n",
    "        max_profit1 = profit1\n",
    "\n",
    "# if can buy multiple products\n",
    "max_profit2 = 0\n",
    "for i in range(n):\n",
    "    profit2 = (price[i] - cost[i]) * quantity[i] \n",
    "    if profit2 > 0:\n",
    "        max_profit2 = max_profit2 + profit2\n",
    "        \n",
    "        \n",
    "\n",
    "print(str(max_profit1) + ' ' + str(max_profit2), end = '')"
   ]
  },
  {
   "cell_type": "code",
   "execution_count": null,
   "metadata": {},
   "outputs": [],
   "source": [
    "# Q1 參考答案\n",
    "\n",
    "x1 = int(input())\n",
    "y1 = int(input())\n",
    "x2 = int(input())\n",
    "y2 = int(input())\n",
    "x3 = int(input())\n",
    "y3 = int(input())\n",
    "\n",
    "# 判斷是否連成一線(斜率是否相同)\n",
    "aLine = False\n",
    "# 由於題目限制 x1 < x2 < x3 , y1 != y2 != y3\n",
    "# 所以不用考慮相減後除以0的窘境，謝謝老師\n",
    "if (x2 - x1) / (y2 - y1) == (x3 - x2) / (y3 - y2):\n",
    "    aLine = True\n",
    "\n",
    "# 判斷哪個點的y最大\n",
    "\n",
    "# 先預設點1是最大的\n",
    "# 找出y最大的那一個點\n",
    "maxY = y1\n",
    "maxY_num = 1\n",
    "if maxY < y2:\n",
    "    maxY = y2\n",
    "    maxY_num = 2\n",
    "if maxY < y3:\n",
    "    maxY = y3\n",
    "    maxY_num = 3\n",
    "\n",
    "# 輸出結果(將true, false以整數輸出)\n",
    "print(int(aLine), maxY_num)"
   ]
  },
  {
   "cell_type": "code",
   "execution_count": null,
   "metadata": {},
   "outputs": [],
   "source": [
    "# Q2 參考答案\n",
    "\n",
    "# 輸入\n",
    "n = int(input())\n",
    "# 結合前幾周所學，一行輸入方法\n",
    "p_list = [int(i) for i in input().split(\",\")]\n",
    "q_list = [int(i) for i in input().split(\",\")]\n",
    "c_list = [int(i) for i in input().split(\",\")]\n",
    "\n",
    "# 此提要判斷只能進口一種和可進口多種商品\n",
    "# 使用一個陣列儲存每種商品可得之利潤，最後再找出最大或利潤總和即可\n",
    "prof_list = []\n",
    "\n",
    "for i in range(n):\n",
    "    profit = (p_list[i] - c_list[i]) * q_list[i]\n",
    "    if profit < 0:\n",
    "        profit = 0\n",
    "    prof_list.append(profit)\n",
    "\n",
    "# 印出一種商品最大利潤 和 可賣所有商品利潤總和\n",
    "print(max(prof_list), sum(prof_list))"
   ]
  }
 ],
 "metadata": {
  "kernelspec": {
   "display_name": "Python 3",
   "language": "python",
   "name": "python3"
  },
  "language_info": {
   "codemirror_mode": {
    "name": "ipython",
    "version": 3
   },
   "file_extension": ".py",
   "mimetype": "text/x-python",
   "name": "python",
   "nbconvert_exporter": "python",
   "pygments_lexer": "ipython3",
   "version": "3.6.5"
  }
 },
 "nbformat": 4,
 "nbformat_minor": 2
}
