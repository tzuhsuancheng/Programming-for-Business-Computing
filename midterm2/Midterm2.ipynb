{
 "cells": [
  {
   "cell_type": "markdown",
   "metadata": {},
   "source": [
    "- score: 24/100\n",
    "- see solution from the folder \"midterm2_solution\""
   ]
  },
  {
   "cell_type": "code",
   "execution_count": 27,
   "metadata": {},
   "outputs": [
    {
     "name": "stdout",
     "output_type": "stream",
     "text": [
      "\n",
      "101/1/2\n",
      "102-3-4\n",
      "BREAK\n",
      "DATA_ERROR\n"
     ]
    },
    {
     "ename": "SystemExit",
     "evalue": "-1",
     "output_type": "error",
     "traceback": [
      "An exception has occurred, use %tb to see the full traceback.\n",
      "\u001b[0;31mSystemExit\u001b[0m\u001b[0;31m:\u001b[0m -1\n"
     ]
    },
    {
     "name": "stderr",
     "output_type": "stream",
     "text": [
      "/anaconda3/lib/python3.7/site-packages/IPython/core/interactiveshell.py:3304: UserWarning: To exit: use 'exit', 'quit', or Ctrl-D.\n",
      "  warn(\"To exit: use 'exit', 'quit', or Ctrl-D.\", stacklevel=1)\n"
     ]
    }
   ],
   "source": [
    "# Q1\n",
    "from datetime import datetime, timedelta   \n",
    "import sys\n",
    "\n",
    "allinput=[] \n",
    "while(1):\n",
    "    tmp=input()\n",
    "    if tmp==\"BREAK\":\n",
    "        break\n",
    "    else:\n",
    "        allinput.append(tmp.strip())\n",
    "\n",
    "wod = {1:0 ,2:0, 3:0, 4:0, 5:0 ,6:0 ,7:0} \n",
    "\n",
    "if len(allinput) == 1:\n",
    "    pass\n",
    "else:\n",
    "    for i in allinput:\n",
    "        try:\n",
    "            dstr = i \n",
    "            day = datetime.strptime(dstr, \"%Y/%m/%d\")\n",
    "            day = day.date().weekday() + 1\n",
    "            wod[day] = wod[day] + 1\n",
    "\n",
    "        except:\n",
    "            print(\"DATA_ERROR\")\n",
    "            sys.exit(-1)\n",
    "\n",
    "for k, v in wod.items():\n",
    "    print('%s %s' % (k, v))"
   ]
  },
  {
   "cell_type": "code",
   "execution_count": 84,
   "metadata": {},
   "outputs": [
    {
     "name": "stdout",
     "output_type": "stream",
     "text": [
      "1\n",
      "2\n",
      "3\n",
      "DD\n",
      "DATA_ERROR\n"
     ]
    },
    {
     "ename": "SystemExit",
     "evalue": "-1",
     "output_type": "error",
     "traceback": [
      "An exception has occurred, use %tb to see the full traceback.\n",
      "\u001b[0;31mSystemExit\u001b[0m\u001b[0;31m:\u001b[0m -1\n"
     ]
    }
   ],
   "source": [
    "# Q2\n",
    "import sys\n",
    "\n",
    "allinput=[] \n",
    "while(1):\n",
    "    tmp=input()\n",
    "    if tmp==\"BREAK\":\n",
    "        break\n",
    "    else:\n",
    "        try:\n",
    "            allinput.append(float(tmp.strip()))\n",
    "        except:\n",
    "            print(\"DATA_ERROR\")\n",
    "            sys.exit(-1)\n",
    "            \n",
    "\n",
    "if len(allinput) < 8: \n",
    "    print(\"NOT_ENOUGH_DATA\")\n",
    "    sys.exit(-1)\n",
    "    \n",
    "for i in allinput:\n",
    "    if isinstance(i, str):\n",
    "        print(\"DATA_ERROR\")\n",
    "        sys.exit(-1)\n",
    "    \n",
    "c = 7\n",
    "me = []\n",
    "for i, n in enumerate(allinput):\n",
    "    if i < c:\n",
    "        pass\n",
    "    \n",
    "    elif i < c * 2:\n",
    "        m = n - allinput[i-c]\n",
    "        me.append(m)\n",
    "    \n",
    "    elif i < c * 3:\n",
    "        mt = [allinput[i-c*t] for t in range(1,3)]\n",
    "        m = n - (sum(mt)/2)\n",
    "        me.append(m)\n",
    "        \n",
    "    elif i < c * 4:\n",
    "        mt = sorted([allinput[i-c*t] for t in range(1,4)])\n",
    "        m = n - mt[2]\n",
    "        me.append(m)\n",
    "    \n",
    "    elif i < c * 5:\n",
    "        mt = sorted([allinput[i-c*t] for t in range(1,5)])\n",
    "        m = n - (sum(mt[1:3])/2)\n",
    "        me.append(m)\n",
    "    \n",
    "    else:\n",
    "        mt = sorted([allinput[i-c*t] for t in range(1,6)])\n",
    "        m = n - mt[2]\n",
    "        me.append(m)\n",
    "        \n",
    "for i in me:\n",
    "    print(\"%0.2f\" % i)"
   ]
  },
  {
   "cell_type": "code",
   "execution_count": 140,
   "metadata": {},
   "outputs": [
    {
     "name": "stdout",
     "output_type": "stream",
     "text": [
      "/Users/chengtzuhsuan/NTU_10702_PBC/midterm2/PBC107_2_midterm2/testfile1.txt\n"
     ]
    }
   ],
   "source": [
    "# q3\n",
    "\n",
    "file_path = input()\n",
    "\n",
    "\n",
    "txt = [\"\"]\n",
    "with open(file_path, encoding='utf-8') as file:\n",
    "    for line in file:\n",
    "        txt.append(line.strip())\n",
    "\n",
    "d = {}\n",
    "\n",
    "for i, t in enumerate(txt):\n",
    "    query = {\"0\":0,\"1\":0,\"2\":0,\"3\":0,\"4\":0,\"5\":0,\"6\":0,\"7\":0,\"8\":0,\"9\":0,\"(\":0,\")\":0,\"$\":0}\n",
    "    for tt in t:\n",
    "        for j,v in query.items():\n",
    "            if j == tt:\n",
    "                query[j] = query[j] + 1\n",
    "        \n",
    "    tmp = sum(query.values())\n",
    "    d[i] = tmp\n",
    "        \n",
    "for k,v in d:\n",
    "    print(\"@%s: %s\" % d[])\n",
    "\"@line_no: "
   ]
  }
 ],
 "metadata": {
  "kernelspec": {
   "display_name": "Python 3",
   "language": "python",
   "name": "python3"
  },
  "language_info": {
   "codemirror_mode": {
    "name": "ipython",
    "version": 3
   },
   "file_extension": ".py",
   "mimetype": "text/x-python",
   "name": "python",
   "nbconvert_exporter": "python",
   "pygments_lexer": "ipython3",
   "version": "3.7.3"
  },
  "toc": {
   "base_numbering": 1,
   "nav_menu": {},
   "number_sections": true,
   "sideBar": true,
   "skip_h1_title": false,
   "title_cell": "Table of Contents",
   "title_sidebar": "Contents",
   "toc_cell": false,
   "toc_position": {},
   "toc_section_display": true,
   "toc_window_display": false
  }
 },
 "nbformat": 4,
 "nbformat_minor": 2
}
