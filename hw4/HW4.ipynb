{
 "cells": [
  {
   "cell_type": "code",
   "execution_count": null,
   "metadata": {},
   "outputs": [],
   "source": [
    "'''\n",
    "@author: Tzu\n",
    "@data: 2019/3/23\n",
    "HW4\n",
    "'''"
   ]
  },
  {
   "cell_type": "markdown",
   "metadata": {},
   "source": [
    "## Question 1"
   ]
  },
  {
   "cell_type": "markdown",
   "metadata": {},
   "source": [
    "skip question 1 ( need to come back to answer)"
   ]
  },
  {
   "cell_type": "markdown",
   "metadata": {},
   "source": [
    "## Question 2"
   ]
  },
  {
   "cell_type": "code",
   "execution_count": null,
   "metadata": {},
   "outputs": [],
   "source": [
    "# input\n",
    "n = int(input())\n",
    "p_list = [int(i) for i in input().split(\",\")]\n",
    "q_list = [int(i) for i in input().split(\",\")]\n",
    "c_list = [int(i) for i in input().split(\",\")]\n",
    "\n",
    "\n",
    "# sum of the total profit\n",
    "sum_profit = 0\n",
    "for i in range(n):\n",
    "    profit = (p_list[i] - c_list[i]) * q_list[i]\n",
    "    sum_profit = sum_profit + profit\n",
    "\n",
    "# output\n",
    "print(sum_profit)"
   ]
  },
  {
   "cell_type": "markdown",
   "metadata": {},
   "source": [
    "## Question 3"
   ]
  },
  {
   "cell_type": "code",
   "execution_count": 51,
   "metadata": {},
   "outputs": [
    {
     "name": "stdout",
     "output_type": "stream",
     "text": [
      "5,1\n",
      "0,1,1,0,0\n",
      "1,0,0,1,1\n",
      "1,0,0,1,0\n",
      "0,1,1,0,0\n",
      "0,1,0,0,0\n",
      "4\n",
      "1,5"
     ]
    }
   ],
   "source": [
    "# Question 3\n",
    "\n",
    "# input\n",
    "info = [int(i) for i in input().split(\",\")]\n",
    "n = info[0]\n",
    "m = info[1] \n",
    "\n",
    "matrix = []\n",
    "for i in range(n):\n",
    "    a_list = [int(i) for i in input().split(\",\")]\n",
    "    matrix.append(a_list)\n",
    "    \n",
    "h_list = [int(i) for i in input().split(\",\")] # hospital list\n",
    "\n",
    "\n",
    "# if there is a hospital in the village, then convert 0 to 1\n",
    "for h in range(len(h_list)): \n",
    "    _h = h_list[h] - 1\n",
    "    matrix[_h][_h] = 1\n",
    "\n",
    "# create a list which sum the situation of those would build a hospital\n",
    "sum_m = [0 for i in range(n)]\n",
    "for h in range(len(h_list)):\n",
    "    _h = h_list[h] - 1\n",
    "    sum_m = [matrix[_h][i] + sum_m[i] for i in range(len(matrix[_h]))]\n",
    "    \n",
    "\n",
    "# to see whether all can visit a hospital\n",
    "village = []\n",
    "success = -1\n",
    "for i in range(len(sum_m)):\n",
    "    if sum_m[i] == 0:\n",
    "        village.append(i+1)\n",
    "        success = 0\n",
    "    \n",
    "\n",
    "# output        \n",
    "if success == -1:\n",
    "    print(success)\n",
    "else:\n",
    "    for i in range(len(village)):\n",
    "        if i == len(village) - 1:\n",
    "            print(village[i], end = \"\")\n",
    "        else:\n",
    "            print(village[i], end = \",\")\n",
    "\n"
   ]
  },
  {
   "cell_type": "markdown",
   "metadata": {},
   "source": [
    "## Question 4 (Bonus)"
   ]
  },
  {
   "cell_type": "code",
   "execution_count": 2,
   "metadata": {},
   "outputs": [
    {
     "name": "stdout",
     "output_type": "stream",
     "text": [
      "5,3\n",
      "125,135,105,95,35\n",
      "125,70,235,150,130\n",
      "250,880,210,910,670\n",
      "4,2040\n"
     ]
    }
   ],
   "source": [
    "# given info\n",
    "info = [int(i) for i in input().split(\",\")]\n",
    "p_list = [int(i) for i in input().split(\",\")]  # service time\n",
    "r_list = [int(i) for i in input().split(\",\")]  # reserved time\n",
    "b_list = [int(i) for i in input().split(\",\")]  # revenue\n",
    "\n",
    "m = info[1]  # number of the masseurs\n",
    "n = info[0]  # number of the customers\n",
    "hr = [0 for i in range(m)]  # create a list to calculate the working time of each masseur\n",
    "\n",
    "# create a nested list for time and length\n",
    "tmp = []\n",
    "time_res = []\n",
    "for i in range(n):\n",
    "    tmp = [p_list[i], r_list[i], b_list[i]]\n",
    "    time_res.append(tmp)\n",
    "\n",
    "\n",
    "# sorted time and revenue\n",
    "time_res = sorted(time_res, key=lambda x: x[1])\n",
    "time_res = sorted(time_res, key=lambda x: x[0])\n",
    "\n",
    "\n",
    "\n",
    "# calculate the customers and revenue under the conditions\n",
    "count_n = 0  # count the number of customer\n",
    "total_r = 0  # count the total revenue\n",
    "ver1 = []\n",
    "ver2 = []\n",
    "\n",
    "\n",
    "for t in time_res:\n",
    "    if 0 <= hr[0] - t[1] <= 30:\n",
    "        hr[0] = hr[0] + t[0]\n",
    "        tmp = t[0]\n",
    "    elif hr[0] < t[1]:\n",
    "        hr[0] = t[0] + t[1]\n",
    "        tmp = t[0] + t[1]\n",
    "    else:\n",
    "        ver1.append(t)\n",
    "        continue\n",
    "\n",
    "    if hr[0] > 360:\n",
    "        hr[0] = hr[0] - tmp\n",
    "        ver1.append(t)\n",
    "        continue\n",
    "    else:\n",
    "        hr.sort()  # sort the list of working time\n",
    "        total_r = total_r + t[2]\n",
    "        count_n = count_n + 1\n",
    "        ver2.append(t)\n",
    "\n",
    "for v in ver1:\n",
    "    for v2 in ver2:\n",
    "        if v[1] < v2[1] and v2[1] + 30 >= v[1] + v[0]:\n",
    "            total_r = total_r + v[2]\n",
    "            count_n = count_n + 1\n",
    "            ver2.remove(v2)\n",
    "            ver2.append(v)\n",
    "            break\n",
    "\n",
    "\n",
    "# output\n",
    "print(str(count_n) + \",\" + str(total_r))"
   ]
  }
 ],
 "metadata": {
  "kernelspec": {
   "display_name": "Python 3",
   "language": "python",
   "name": "python3"
  },
  "language_info": {
   "codemirror_mode": {
    "name": "ipython",
    "version": 3
   },
   "file_extension": ".py",
   "mimetype": "text/x-python",
   "name": "python",
   "nbconvert_exporter": "python",
   "pygments_lexer": "ipython3",
   "version": "3.7.3"
  },
  "toc": {
   "base_numbering": 1,
   "nav_menu": {},
   "number_sections": true,
   "sideBar": true,
   "skip_h1_title": false,
   "title_cell": "Table of Contents",
   "title_sidebar": "Contents",
   "toc_cell": false,
   "toc_position": {},
   "toc_section_display": true,
   "toc_window_display": false
  }
 },
 "nbformat": 4,
 "nbformat_minor": 2
}
