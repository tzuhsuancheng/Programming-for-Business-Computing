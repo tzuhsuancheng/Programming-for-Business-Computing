{
 "cells": [
  {
   "cell_type": "code",
   "execution_count": 7,
   "metadata": {},
   "outputs": [
    {
     "name": "stdout",
     "output_type": "stream",
     "text": [
      "10\n",
      "10\n",
      "10\n",
      "10\n",
      "660\n"
     ]
    }
   ],
   "source": [
    "#第二週練習：總共多少錢\n",
    "num1 = int(input())\n",
    "num2 = int(input())\n",
    "num3 = int(input())\n",
    "num4 = int(input())\n",
    "print(50*num1+10*num2+5*num3+num4)"
   ]
  },
  {
   "cell_type": "code",
   "execution_count": 2,
   "metadata": {},
   "outputs": [
    {
     "name": "stdout",
     "output_type": "stream",
     "text": [
      "286\n",
      "1 2 0 1 0 4\n"
     ]
    }
   ],
   "source": [
    "#第二週作業：該怎麼找錢\n",
    "money = int(input())\n",
    "change = 1000 - money\n",
    "num500 = change // 500\n",
    "change = change - 500*num500\n",
    "num100 = change // 100\n",
    "change = change - 100*num100\n",
    "num50 = change // 50\n",
    "change =  change - 50*num50\n",
    "num10 = change // 10\n",
    "change = change - 10*num10\n",
    "num5 = change // 5\n",
    "change = change - 5*num5\n",
    "num1 = change // 1\n",
    "\n",
    "print(\"%s %s %s %s %s %s\" % (num500, num100, num50, num10, num5, num1))"
   ]
  },
  {
   "cell_type": "code",
   "execution_count": 17,
   "metadata": {},
   "outputs": [
    {
     "name": "stdout",
     "output_type": "stream",
     "text": [
      "0\n",
      "30\n",
      "15\n",
      "50\n"
     ]
    }
   ],
   "source": [
    "#HW0\n",
    "\n",
    "#set the input variables\n",
    "hotpot1 = int(input())\n",
    "hotpot2 = int(input())\n",
    "hotpot3 = int(input())\n",
    "\n",
    "#compute the total revenue and the pocket money\n",
    "total = 170*hotpot1 + 160*hotpot2 + 150*hotpot3\n",
    "pocket = total % 1000\n",
    "\n",
    "print(pocket)"
   ]
  },
  {
   "cell_type": "code",
   "execution_count": null,
   "metadata": {},
   "outputs": [],
   "source": []
  }
 ],
 "metadata": {
  "kernelspec": {
   "display_name": "Python 3",
   "language": "python",
   "name": "python3"
  },
  "language_info": {
   "codemirror_mode": {
    "name": "ipython",
    "version": 3
   },
   "file_extension": ".py",
   "mimetype": "text/x-python",
   "name": "python",
   "nbconvert_exporter": "python",
   "pygments_lexer": "ipython3",
   "version": "3.6.5"
  }
 },
 "nbformat": 4,
 "nbformat_minor": 2
}
