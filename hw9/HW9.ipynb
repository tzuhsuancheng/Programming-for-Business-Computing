{
 "cells": [
  {
   "cell_type": "code",
   "execution_count": 1,
   "metadata": {},
   "outputs": [
    {
     "data": {
      "text/plain": [
       "'\\n@author: Tzu\\n@date: 2019/5/27\\n@title\\n'"
      ]
     },
     "execution_count": 1,
     "metadata": {},
     "output_type": "execute_result"
    }
   ],
   "source": [
    "'''\n",
    "@author: Tzu\n",
    "@date: 2019/5/27\n",
    "@title\n",
    "'''"
   ]
  },
  {
   "cell_type": "markdown",
   "metadata": {},
   "source": [
    "# 第一題"
   ]
  },
  {
   "cell_type": "markdown",
   "metadata": {},
   "source": [
    "1. 實作一個視窗包含：\n",
    "    - 一個文字方塊：輸入半形英文字母\n",
    "    - 一個下拉選單：選擇大寫小寫\n",
    "    - 一個按鈕：按了之後根據選項取代內容\n",
    "\n",
    "2. Tkinter Tutorial\n",
    "https://python-textbok.readthedocs.io/en/1.0/Introduction_to_GUI_Programming.html"
   ]
  },
  {
   "cell_type": "code",
   "execution_count": 38,
   "metadata": {},
   "outputs": [],
   "source": [
    "import tkinter as tk\n",
    "import tkinter.font as tkFont\n",
    "\n",
    "class ConvertApp(tk.Frame):\n",
    "    def __init__(self):\n",
    "        tk.Frame.__init__(self)\n",
    "        self.grid()\n",
    "        self.createWidgets()\n",
    "    \n",
    "    def createWidgets(self):\n",
    "        f = tkFont.Font(size = 10, family = \"Courier New\")\n",
    "        \n",
    "        # Text\n",
    "        self.lblX = tk.Label(self, text = \"Please enter some letters:\", height = 2, width = 30, font = f)\n",
    "        \n",
    "        # Entry\n",
    "        self.e = StringVar()\n",
    "        self.entry = tk.Entry(self, textvariable = self.e)\n",
    "        \n",
    "        # List\n",
    "        self.optionList = (\"Big\", \"Small\")\n",
    "        self.v = tk.StringVar()\n",
    "        self.v.set(\"-- Choose --\")\n",
    "        self.optionmenu = tk.OptionMenu(self, self.v, *self.optionList)\n",
    "        \n",
    "        # Button\n",
    "        self.button = tk.Button(self, command = self.caseConvert) \n",
    "        self.button[\"text\"] = \"convert!\"\n",
    "        self.button.grid(row = 5, column=1, sticky= tk.NE + tk.SW)\n",
    "        \n",
    "        # Grid\n",
    "        self.lblX.grid(row = 0, column = 0, columnspan = 20)\n",
    "        self.entry.grid(row = 2, column=1, sticky=tk.NE + tk.SW)\n",
    "        self.optionmenu.grid(row = 4, column=1, sticky = tk.NE + tk.SW)\n",
    "        self.button.grid(row = 5, column=1, sticky= tk.NE + tk.SW)\n",
    "        \n",
    "    def caseConvert(self):\n",
    "        if self.v.get() == \"Big\":\n",
    "            self.w = self.e.set(self.e.get().upper())\n",
    "            return self.w\n",
    "        \n",
    "        if self.v.get() == \"Small\":\n",
    "            self.w = self.e.set(self.e.get().lower())\n",
    "            return self.w          \n",
    "        \n",
    "       \n",
    "                \n",
    "#root = tk.Tk()\n",
    "app = ConvertApp()\n",
    "app.master.title(\"My Case Converter\")\n",
    "root.mainloop()"
   ]
  },
  {
   "cell_type": "markdown",
   "metadata": {},
   "source": [
    "# 第二題"
   ]
  },
  {
   "cell_type": "markdown",
   "metadata": {},
   "source": [
    "給定n顆樹、檢查是否為單調，滿足序列仍是遞增或者遞減的所有砍樹的方法\n",
    "\n",
    "- https://stackoverflow.com/questions/4983258/python-how-to-check-list-monotonicity/4983359"
   ]
  },
  {
   "cell_type": "code",
   "execution_count": 30,
   "metadata": {},
   "outputs": [
    {
     "name": "stdout",
     "output_type": "stream",
     "text": [
      "5\n",
      "1 4 7 10 13\n"
     ]
    }
   ],
   "source": [
    "n = int(input())\n",
    "tree = [int(i) for i in input().split(' ')]"
   ]
  },
  {
   "cell_type": "code",
   "execution_count": 89,
   "metadata": {},
   "outputs": [
    {
     "name": "stdout",
     "output_type": "stream",
     "text": [
      "5\n",
      "1 4 3 2 10\n",
      "0\n"
     ]
    }
   ],
   "source": [
    "# 12分\n",
    "\n",
    "# input\n",
    "n = int(input())\n",
    "tree = [int(i) for i in input().split(' ')]\n",
    "\n",
    "# check whether is monotonic or not\n",
    "def isMonotonic(A): \n",
    "    return (all(A[i] <= A[i + 1] for i in range(len(A) - 1)) or\n",
    "            all(A[i] >= A[i + 1] for i in range(len(A) - 1))) \n",
    "\n",
    "count = 0\n",
    "tmp = tree.copy()\n",
    "for i in range(len(tmp)):\n",
    "    tree = tmp.copy()\n",
    "    del tree[i] # remove an item from the list \n",
    "    mono = isMonotonic(tree)\n",
    "    \n",
    "    if mono == True:\n",
    "        count = count + 1\n",
    "        \n",
    "print(count)"
   ]
  },
  {
   "cell_type": "code",
   "execution_count": 103,
   "metadata": {},
   "outputs": [
    {
     "name": "stdout",
     "output_type": "stream",
     "text": [
      "3\n",
      "3 2 1\n",
      "0\n"
     ]
    }
   ],
   "source": [
    "# 14分 整體比較快一點\n",
    "\n",
    "from itertools import starmap, islice\n",
    "import operator\n",
    "\n",
    "# input\n",
    "n = int(input())\n",
    "tree = [int(i) for i in input().split(' ')]\n",
    "\n",
    "# check whether is monotonic or not\n",
    "def is_increasing_starmap(lst):\n",
    "    pairs = zip(lst, islice(lst, 1, None))\n",
    "    return all(starmap(operator.le, pairs))\n",
    "\n",
    "count = 0\n",
    "tmp = tree.copy()\n",
    "for i in range(len(tmp)):\n",
    "    tree = tmp.copy()\n",
    "    del tree[i] # remove an item from the list \n",
    "    mono = is_increasing_starmap(tree)\n",
    "    \n",
    "    if mono == True:\n",
    "        count = count + 1\n",
    "        \n",
    "print(count)"
   ]
  },
  {
   "cell_type": "code",
   "execution_count": 108,
   "metadata": {},
   "outputs": [
    {
     "name": "stdout",
     "output_type": "stream",
     "text": [
      "5\n",
      "1 4 3 2 10\n",
      "0\n"
     ]
    }
   ],
   "source": [
    "from itertools import starmap, islice\n",
    "\n",
    "# input\n",
    "n = int(input())\n",
    "tree = [int(i) for i in input().split(' ')]\n",
    "\n",
    "# check whether is monotonic or not\n",
    "def is_incr_Monotonic(lst):\n",
    "    return all(x <= y for x, y in zip(lst, islice(lst, 1, None)))\n",
    "\n",
    "def is_decr_Monotonic(lst):\n",
    "    return all(x >= y for x, y in zip(lst, islice(lst, 1, None)))\n",
    "\n",
    "\n",
    "\n",
    "count = 0\n",
    "tmp = tree.copy()\n",
    "for i in range(len(tmp)):\n",
    "    tree = tmp.copy()\n",
    "    del tree[i] # remove an item from the list \n",
    " \n",
    "    if is_incr_Monotonic(tree) == True:\n",
    "        count = count + 1\n",
    "    elif is_decr_Monotonic(tree) == True:\n",
    "        count = count + 1\n",
    "    else:\n",
    "        pass\n",
    "    \n",
    "        \n",
    "print(count)"
   ]
  },
  {
   "cell_type": "code",
   "execution_count": 112,
   "metadata": {},
   "outputs": [
    {
     "name": "stdout",
     "output_type": "stream",
     "text": [
      "5\n",
      "1 4 3 2 10\n",
      "0\n"
     ]
    }
   ],
   "source": [
    "import pandas as pd\n",
    "\n",
    "# input\n",
    "n = int(input())\n",
    "tree = [int(i) for i in input().split(' ')]\n",
    "\n",
    "\n",
    "count = 0\n",
    "tmp = tree.copy()\n",
    "for i in range(len(tmp)):\n",
    "    tree = tmp.copy()\n",
    "    del tree[i] # remove an item from the list \n",
    "    if pd.Series(tree).is_monotonic_decreasing == True or pd.Series(tree).is_monotonic_increasing == True:\n",
    "        count = count + 1\n",
    "    \n",
    "        \n",
    "print(count)"
   ]
  },
  {
   "cell_type": "code",
   "execution_count": null,
   "metadata": {},
   "outputs": [],
   "source": []
  }
 ],
 "metadata": {
  "kernelspec": {
   "display_name": "Python 3",
   "language": "python",
   "name": "python3"
  },
  "language_info": {
   "codemirror_mode": {
    "name": "ipython",
    "version": 3
   },
   "file_extension": ".py",
   "mimetype": "text/x-python",
   "name": "python",
   "nbconvert_exporter": "python",
   "pygments_lexer": "ipython3",
   "version": "3.7.3"
  }
 },
 "nbformat": 4,
 "nbformat_minor": 2
}
