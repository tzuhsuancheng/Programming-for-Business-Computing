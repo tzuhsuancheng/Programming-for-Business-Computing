{
 "cells": [
  {
   "cell_type": "code",
   "execution_count": null,
   "metadata": {},
   "outputs": [],
   "source": [
    "#problem 1\n",
    "problem = int(input())\n",
    "if problem == 1:\n",
    "    print(1)\n",
    "if problem == 2:\n",
    "    print(0)\n",
    "if problem == 3:\n",
    "    print(0)\n",
    "if problem == 4:\n",
    "    print(1)\n",
    "if problem == 5:\n",
    "    print(0)\n",
    "if problem == 6:\n",
    "    print(1)\n",
    "if problem == 7:\n",
    "    print(0)\n",
    "if problem == 8:\n",
    "    print(1)\n",
    "if problem == 9:\n",
    "    print(1)\n",
    "if problem == 10:\n",
    "    print(1)"
   ]
  },
  {
   "cell_type": "code",
   "execution_count": 16,
   "metadata": {},
   "outputs": [
    {
     "name": "stdout",
     "output_type": "stream",
     "text": [
      "180\n",
      "120\n",
      "30\n",
      "20\n",
      "5\n",
      "400\n"
     ]
    }
   ],
   "source": [
    "#problem 2\n",
    "#set the input variables\n",
    "hotpot1 = int(input())\n",
    "hotpot2 = int(input())\n",
    "h1_sold = int(input())\n",
    "h2_sold = int(input())\n",
    "h3_sold = int(input())\n",
    "\n",
    "#compute the price of hotpot3\n",
    "hotpot3 = min(hotpot1, hotpot2)\n",
    "\n",
    "\n",
    "#compute the total revenue and the pocket money\n",
    "total = h1_sold*hotpot1 + h2_sold*hotpot2 + h3_sold*hotpot3\n",
    "pocket = total % 1000\n",
    "\n",
    "print(pocket)"
   ]
  },
  {
   "cell_type": "code",
   "execution_count": 27,
   "metadata": {},
   "outputs": [
    {
     "name": "stdout",
     "output_type": "stream",
     "text": [
      "0\n",
      "0\n",
      "0\n",
      "0\n",
      "0\n",
      "0 0\n"
     ]
    }
   ],
   "source": [
    "# problem 3\n",
    "hotpot1 = int(input())\n",
    "hotpot2 = int(input())\n",
    "h1_sold = int(input())\n",
    "h2_sold = int(input())\n",
    "h3_sold = int(input())\n",
    "\n",
    "#compute the price of hotpot3\n",
    "hotpot3 = min(hotpot1, hotpot2)\n",
    "\n",
    "\n",
    "#compute the total revenue and the pocket money\n",
    "total = h1_sold*hotpot1 + h2_sold*hotpot2 + h3_sold*hotpot3\n",
    "pocket = total % 1000\n",
    "\n",
    "#condition1: the pocket money is more than 500 or not\n",
    "r = pocket - 500\n",
    "if (r)>0:\n",
    "    pocket = 500 + int(r/2)\n",
    "else:\n",
    "    pass\n",
    "\n",
    "#condition2: add bonus\n",
    "if pocket % 100 ==0:\n",
    "    bonus = int(pocket*0.1)\n",
    "    pocket = int(pocket + bonus)\n",
    "else:\n",
    "    bonus = -1\n",
    "\n",
    "print(\"%s %s\" % (bonus, pocket))"
   ]
  },
  {
   "cell_type": "code",
   "execution_count": 7,
   "metadata": {},
   "outputs": [
    {
     "name": "stdout",
     "output_type": "stream",
     "text": [
      "46208\n",
      "1159\n",
      "34019\n",
      "12189 35178\n"
     ]
    }
   ],
   "source": [
    "# 第三週練習：轉帳金額確認\n",
    "x1 = int(input())\n",
    "x2 = int(input())\n",
    "y = int(input())\n",
    "\n",
    "if y > x1:\n",
    "    x1 = 0\n",
    "    x2 = x1 + x2\n",
    "else:\n",
    "    x1 = x1 - y\n",
    "    x2 = x2 + y\n",
    "    \n",
    "print (x1, x2)"
   ]
  },
  {
   "cell_type": "code",
   "execution_count": 18,
   "metadata": {},
   "outputs": [
    {
     "name": "stdout",
     "output_type": "stream",
     "text": [
      "413\n",
      "500, 1; 100, 0; 50, 1; 10, 3; 5, 1; 1, 2\n"
     ]
    }
   ],
   "source": [
    "# 第三週作業：該怎麼找錢（進階版）\n",
    "money = int(input())\n",
    "change = 1000 - money\n",
    "num500 = change // 500\n",
    "change = change - 500*num500\n",
    "num100 = change // 100\n",
    "change = change - 100*num100\n",
    "num50 = change // 50\n",
    "change =  change - 50*num50\n",
    "num10 = change // 10\n",
    "change = change - 10*num10\n",
    "num5 = change // 5\n",
    "change = change - 5*num5\n",
    "num1 = change // 1\n",
    "\n",
    "print(\"500, %s; 100, %s; 50, %s; 10, %s; 5, %s; 1, %s\" % (num500, num100, num50, num10, num5, num1))\n"
   ]
  },
  {
   "cell_type": "code",
   "execution_count": 13,
   "metadata": {},
   "outputs": [
    {
     "name": "stdout",
     "output_type": "stream",
     "text": [
      "0 0 0\n",
      "1 1 1\n",
      "2 2 2\n",
      "3 3 3\n",
      "4 4 4\n"
     ]
    }
   ],
   "source": [
    "for i in range(0,5):\n",
    "    print(i, i , i)"
   ]
  },
  {
   "cell_type": "code",
   "execution_count": null,
   "metadata": {},
   "outputs": [],
   "source": [
    "500, 1; 100, 2; 10, 1; 1, 4"
   ]
  }
 ],
 "metadata": {
  "kernelspec": {
   "display_name": "Python 3",
   "language": "python",
   "name": "python3"
  },
  "language_info": {
   "codemirror_mode": {
    "name": "ipython",
    "version": 3
   },
   "file_extension": ".py",
   "mimetype": "text/x-python",
   "name": "python",
   "nbconvert_exporter": "python",
   "pygments_lexer": "ipython3",
   "version": "3.6.5"
  }
 },
 "nbformat": 4,
 "nbformat_minor": 2
}
