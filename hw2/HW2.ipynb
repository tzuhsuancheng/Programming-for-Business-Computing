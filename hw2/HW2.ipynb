{
 "cells": [
  {
   "cell_type": "code",
   "execution_count": null,
   "metadata": {},
   "outputs": [],
   "source": [
    "'''\n",
    "@author: Tzu\n",
    "@date:3/11\n",
    "'''"
   ]
  },
  {
   "cell_type": "code",
   "execution_count": null,
   "metadata": {},
   "outputs": [],
   "source": [
    "# Question 1\n",
    "problem = int(input())\n",
    "if problem == 1: \n",
    "    print(1)\n",
    "elif problem == 2:\n",
    "    print(1)\n",
    "elif problem == 3:\n",
    "    print(1)\n",
    "elif problem == 4:\n",
    "    print(0)\n",
    "elif problem == 5:\n",
    "    print(0)\n",
    "elif problem == 6: \n",
    "    print(1)\n",
    "elif problem == 7:\n",
    "    print(0)\n",
    "elif problem == 8:\n",
    "    print(1)\n",
    "elif problem == 9:\n",
    "    print(0)\n",
    "elif problem == 10:\n",
    "    print(0)"
   ]
  },
  {
   "cell_type": "markdown",
   "metadata": {},
   "source": [
    "# Question 2\n",
    "廷廷火鍋店自某天週一清晨開業，起初擁有 x 元的開店資金，\n",
    "每週一到五每天會付出 c1 元的水電費與 c2 元的人事費用；\n",
    "每逢週二與週五則需要付出 c3 元火鍋食材採購費用；\n",
    "每逢週三則會付出 c4 元的餐飲費來宴請員工慰勞其辛勞；\n",
    "每週六與週日皆不開業，因此不用付出任何成本費用。\n",
    "如此經營一週後，每週日將會結算並獲得本週營業收入，預計將會收入 r 元。\n",
    "\n",
    "已知每週預期之營業收入會小於每週固定成本花費的，\n",
    "即 r<5(c1+c2)+2c3+c4，請計算廷廷火鍋店週間每一天的剩餘資金，直到結束營業（印出之剩餘資金變成零或負的）為止。週六與週日的剩餘資金不用印出。"
   ]
  },
  {
   "cell_type": "markdown",
   "metadata": {},
   "source": [
    "#### 想法：\n",
    "1. x: 資金, c1,c2,c3,c4：成本, r:收入\n",
    "2. 算出每一天會花的成本，再放上最後一天的收入弄成一個list: [tc1, tc2, tc3, tc1, tc2, r]\n",
    "用while 迴圈跑（因為不知道什麼時候會變成0或者負）所以是while x>0 (如果<=0就跳出迴圈）\n",
    "        \n",
    "    for bal in bal_list:\n",
    "        if bal==第五個item(r)就把資金加上r\n",
    "            但if 這時候資金<=0就跳出迴圈（因為不滿足x>0 所以也會跳出while迴圈）\n",
    "\n",
    "        else\n",
    "            資金＝資金扣掉那一天的成本\n",
    "            扣完之後印出剩下的錢\n",
    "            如果扣到x<=0 跳出迴圈"
   ]
  },
  {
   "cell_type": "code",
   "execution_count": 20,
   "metadata": {},
   "outputs": [
    {
     "name": "stdout",
     "output_type": "stream",
     "text": [
      "1000\n",
      "150\n",
      "200\n",
      "300\n",
      "150\n",
      "500\n",
      "650.0."
     ]
    }
   ],
   "source": [
    "# Question 2\n",
    "# get infromation \n",
    "x = int(input()) # capital\n",
    "c1 = int(input()) # cost\n",
    "c2 = int(input())\n",
    "c3 = int(input())\n",
    "c4 = int(input())\n",
    "r = int(input()) # revenue\n",
    "\n",
    "# total cost of a day\n",
    "tc1 = c1+c2 # mon, thu \n",
    "tc2 = c1+c2+c3 # tue, fri\n",
    "tc3 = c1+c2+c4 # wed\n",
    "\n",
    "\n",
    "bal_list = [tc1, tc2, tc3, tc1, tc2, r] # revenue or cost of a day\n",
    "\n",
    "\n",
    "while x > 0 :\n",
    "    for bal in bal_list:\n",
    "        if bal == bal_list[5]: \n",
    "            x = x + r              # add the revenue only on Sun\n",
    "            if x <=0:\n",
    "                break\n",
    "        else:\n",
    "            x = x - bal           # calculate the rest capital day by day\n",
    "            print (str(x) + '.', end = '') \n",
    "            if x <=0:\n",
    "                break"
   ]
  },
  {
   "cell_type": "code",
   "execution_count": 45,
   "metadata": {},
   "outputs": [
    {
     "name": "stdout",
     "output_type": "stream",
     "text": [
      "100\n",
      "500\n",
      "400\n",
      "420\n",
      "300 200 40000\n"
     ]
    }
   ],
   "source": [
    "# Question 3\n",
    "'''\n",
    "Wrong Answer\n",
    "'''\n",
    "# get information\n",
    "c = int(input())  # cost\n",
    "a1 = int(input()) # demand\n",
    "r1 = int(input()) # prcie 1\n",
    "r2 = int(input()) # price 2\n",
    "a2 = a1 + r1\n",
    "a3 = a2 - r2\n",
    "\n",
    "# set the initial value \n",
    "max_profit = 0\n",
    "optimal_price = 0\n",
    "q = 0\n",
    "\n",
    "# compare the profit in according to different price and quantity\n",
    "# for price between c and r1\n",
    "# 要記得考慮到各區間q=0的情況\n",
    "\n",
    "for p in range(c, r1):\n",
    "    profit = (p-c)*(a1-p)\n",
    "\n",
    "    if profit > max_profit:\n",
    "        max_profit = profit\n",
    "        optimal_price = p\n",
    "        q = (a1-p)\n",
    "\n",
    "# for price between r1 and r2\n",
    "for p in range(r1, r2):\n",
    "    profit = (p-c)*(a2-2*p)\n",
    "\n",
    "    if profit > max_profit:\n",
    "        max_profit = profit\n",
    "        optimal_price = p\n",
    "        q = (a2-2*p)\n",
    "\n",
    "# for price btw r2 and a3\n",
    "for p in range(r2, a3):\n",
    "    profit = (p-c)*(a3-p)\n",
    "\n",
    "    if profit > max_profit:\n",
    "        max_profit = profit\n",
    "        optimal_price = p\n",
    "        q = (a3-p)\n",
    "            \n",
    "\n",
    "print(optimal_price, q, max_profit)"
   ]
  },
  {
   "cell_type": "code",
   "execution_count": 47,
   "metadata": {},
   "outputs": [
    {
     "name": "stdout",
     "output_type": "stream",
     "text": [
      "100\n",
      "500\n",
      "400\n",
      "420\n",
      "300 200 40000\n"
     ]
    }
   ],
   "source": [
    "# Question 3 (Re-write)\n",
    "\n",
    "# get information\n",
    "c = int(input())  # cost\n",
    "a1 = int(input()) # demand\n",
    "r1 = int(input()) # prcie 1\n",
    "r2 = int(input()) # price 2\n",
    "a2 = a1 + r1\n",
    "a3 = a2 - r2\n",
    "\n",
    "# set the initial value \n",
    "max_profit = -1\n",
    "optimal_price = -1\n",
    "q = -1\n",
    "p = c # p start from c\n",
    "\n",
    "while True:\n",
    "    if p >= 0 and p < r1:\n",
    "        if (a1-p) > 0 : # consider the situation that q might be 0 in this range\n",
    "            q = (a1-p)\n",
    "        else:\n",
    "            q = 0\n",
    "    elif p >= r1 and p < r2:\n",
    "        if (a2-2*p) > 0:\n",
    "            q = (a2-2*p)\n",
    "        else:\n",
    "            q = 0\n",
    "    elif p >= r2 and p < a3:\n",
    "        if (a3-p) > 0:\n",
    "            q = (a3-p)\n",
    "        else:\n",
    "            q = 0\n",
    "    else:\n",
    "        q = 0\n",
    "        \n",
    "    profit = (p-c)*q\n",
    "    \n",
    "    if profit > max_profit:\n",
    "        max_profit = profit\n",
    "        optimal_price = p\n",
    "        optimal_q = q\n",
    "    \n",
    "    if q == 0: # if q = 0 that means there are no more things to compare in the next interval of price\n",
    "        break\n",
    "    \n",
    "    p = p + 1\n",
    "\n",
    "print(optimal_price, optimal_q, max_profit)   "
   ]
  },
  {
   "cell_type": "code",
   "execution_count": 59,
   "metadata": {},
   "outputs": [
    {
     "name": "stdout",
     "output_type": "stream",
     "text": [
      "100\n",
      "110\n",
      "500\n",
      "400\n",
      "420\n",
      "300,300,301,301,302,302,303,303,304,304,305"
     ]
    }
   ],
   "source": [
    "# Question 4\n",
    "# get information\n",
    "c1 = int(input())  # cost\n",
    "c2 = int(input())\n",
    "a1 = int(input()) # demand\n",
    "r1 = int(input()) # prcie 1\n",
    "r2 = int(input()) # price 2\n",
    "a2 = a1 + r1\n",
    "a3 = a2 - r2\n",
    "\n",
    "\n",
    "for c in range(c1, c2+1):\n",
    "    p = c\n",
    "    max_profit = -1\n",
    "    optimal_price = -1\n",
    "    q = -1\n",
    "    \n",
    "    while True:\n",
    "        if p >= 0 and p < r1:\n",
    "            if (a1-p) > 0 : # consider the situation that q might be 0 in this range\n",
    "                q = (a1-p)\n",
    "            else:\n",
    "                q = 0\n",
    "        elif p >= r1 and p < r2:\n",
    "            if (a2-2*p) > 0:\n",
    "                q = (a2-2*p)\n",
    "            else:\n",
    "                q = 0\n",
    "        elif p >= r2 and p < a3:\n",
    "            if (a3-p) > 0:\n",
    "                q = (a3-p)\n",
    "            else:\n",
    "                q = 0\n",
    "        else:\n",
    "            q = 0\n",
    "\n",
    "        profit = (p-c)*q\n",
    "\n",
    "        if profit > max_profit:\n",
    "            max_profit = profit\n",
    "            optimal_price = p\n",
    "\n",
    "        if q == 0: # if q = 0 that means there are no more things to compare in the next interval of price\n",
    "            break\n",
    "\n",
    "        p = p + 1\n",
    "\n",
    "    if c == c2 :\n",
    "        print(optimal_price, end = \"\")\n",
    "    else:\n",
    "        print(optimal_price, end = \",\")"
   ]
  },
  {
   "cell_type": "code",
   "execution_count": null,
   "metadata": {},
   "outputs": [],
   "source": [
    "300,300,301,301,302,302,303,303,304,304,305\n",
    "300,300,301,301,302,302,303,303,304,304,305 "
   ]
  },
  {
   "cell_type": "code",
   "execution_count": 1,
   "metadata": {},
   "outputs": [],
   "source": [
    "a = [1,2,3]"
   ]
  },
  {
   "cell_type": "code",
   "execution_count": 3,
   "metadata": {},
   "outputs": [
    {
     "ename": "IndexError",
     "evalue": "list index out of range",
     "output_type": "error",
     "traceback": [
      "\u001b[0;31m---------------------------------------------------------------------------\u001b[0m",
      "\u001b[0;31mIndexError\u001b[0m                                Traceback (most recent call last)",
      "\u001b[0;32m<ipython-input-3-ed40d1f49c42>\u001b[0m in \u001b[0;36m<module>\u001b[0;34m()\u001b[0m\n\u001b[0;32m----> 1\u001b[0;31m \u001b[0ma\u001b[0m\u001b[0;34m[\u001b[0m\u001b[0;36m4\u001b[0m\u001b[0;34m]\u001b[0m\u001b[0;34m\u001b[0m\u001b[0m\n\u001b[0m",
      "\u001b[0;31mIndexError\u001b[0m: list index out of range"
     ]
    }
   ],
   "source": [
    "a[4]"
   ]
  },
  {
   "cell_type": "code",
   "execution_count": null,
   "metadata": {},
   "outputs": [],
   "source": []
  }
 ],
 "metadata": {
  "kernelspec": {
   "display_name": "Python 3",
   "language": "python",
   "name": "python3"
  },
  "language_info": {
   "codemirror_mode": {
    "name": "ipython",
    "version": 3
   },
   "file_extension": ".py",
   "mimetype": "text/x-python",
   "name": "python",
   "nbconvert_exporter": "python",
   "pygments_lexer": "ipython3",
   "version": "3.6.5"
  }
 },
 "nbformat": 4,
 "nbformat_minor": 2
}
