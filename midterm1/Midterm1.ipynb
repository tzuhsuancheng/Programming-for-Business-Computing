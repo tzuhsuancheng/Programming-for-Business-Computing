{
 "cells": [
  {
   "cell_type": "code",
   "execution_count": 153,
   "metadata": {},
   "outputs": [
    {
     "name": "stdout",
     "output_type": "stream",
     "text": [
      "1,2\n",
      "1\n"
     ]
    }
   ],
   "source": [
    "#Q1\n",
    "\n",
    "n_list = [int(i) for i in input().split(\",\")]\n",
    "length = len(n_list)\n",
    "\n",
    "if length == 1:\n",
    "    print(n_list[0] ** 2)\n",
    "elif length % 2 == 0:\n",
    "    print(n_list[int(length/2) - 1])\n",
    "else:\n",
    "    print(0)"
   ]
  },
  {
   "cell_type": "code",
   "execution_count": 15,
   "metadata": {},
   "outputs": [
    {
     "name": "stdout",
     "output_type": "stream",
     "text": [
      "60\n",
      "10 16000\n"
     ]
    }
   ],
   "source": [
    "#Q2\n",
    "\n",
    "a = int(input())\n",
    "\n",
    "d = 1\n",
    "max_size = 0\n",
    "\n",
    "while (a-2*d) > 0:\n",
    "    size = ((a-2*d) ** 2) * d\n",
    "    if size >= max_size:\n",
    "        max_size = size\n",
    "        max_d = d\n",
    "    d = d + 1\n",
    "\n",
    "print(str(max_d) + ' ' + str(max_size))"
   ]
  },
  {
   "cell_type": "code",
   "execution_count": 52,
   "metadata": {},
   "outputs": [
    {
     "name": "stdout",
     "output_type": "stream",
     "text": [
      "1,7,12,5\n",
      "0\n"
     ]
    }
   ],
   "source": [
    "# Q3\n",
    "from itertools import combinations \n",
    "\n",
    "num_list = [int(i) for i in input().split(\",\")]\n",
    "\n",
    "com = combinations(num_list, 2) \n",
    "  \n",
    "com_list = []\n",
    "\n",
    "for i in list(com):\n",
    "    com_list.append(i)\n",
    "    \n",
    "y = 0\n",
    "for i in range(len(com_list)):\n",
    "    com_sum = sum(com_list[i])\n",
    "    if int(com_sum ** (0.5)) == com_sum ** (0.5):\n",
    "        y = y + 1\n",
    "    \n",
    "print(y)"
   ]
  },
  {
   "cell_type": "code",
   "execution_count": null,
   "metadata": {},
   "outputs": [],
   "source": [
    "'''\n",
    "5\n",
    "1,3,5,7,2\n",
    "2,4,6,8,3\n",
    "5,6,7,9,5\n",
    "7,2,9,0,4\n",
    "2,1,5,3,9\n",
    "'''"
   ]
  },
  {
   "cell_type": "code",
   "execution_count": 99,
   "metadata": {},
   "outputs": [
    {
     "name": "stdout",
     "output_type": "stream",
     "text": [
      "5\n",
      "1,3,5,7,2\n",
      "2,4,6,8,3\n",
      "5,6,7,9,5\n",
      "7,2,9,0,4\n",
      "2,1,5,3,9\n",
      "1 3\n",
      "1 4\n",
      "1 5\n",
      "2 3\n",
      "3 4\n",
      "3 5\n"
     ]
    }
   ],
   "source": [
    "# Q4\n",
    "# input\n",
    "n = int(input())\n",
    "\n",
    "matrix = []\n",
    "for i in range(n):\n",
    "    a_list = [int(i) for i in input().split(\",\")]\n",
    "    matrix.append(a_list)\n",
    "    \n",
    "same = []\n",
    "for i in range(len(matrix)):\n",
    "    for j in range(len(matrix)):\n",
    "        if i < j:\n",
    "            if(matrix[i][j] == matrix[j][i]):\n",
    "                same.append([i+1,j+1])\n",
    "\n",
    "same = sorted(same, key = lambda x:x[0])\n",
    "same = sorted(same, key = lambda x:x[1])\n",
    "\n",
    "if len(same) == 0:\n",
    "    print(-1)\n",
    "else:\n",
    "    for s in range(len(same)):\n",
    "        print(same[s][0], same[s][1])"
   ]
  },
  {
   "cell_type": "code",
   "execution_count": null,
   "metadata": {},
   "outputs": [],
   "source": [
    "'''\n",
    "7,3\n",
    "-1,6,9,8,7,-1,-1\n",
    "6,-1,2,-1,-1,-1,-1\n",
    "9,2,-1,6,-1,-1,3\n",
    "8,-1,6,-1,-1,-1,-1\n",
    "7,-1,-1,-1,-1,5,-1\n",
    "-1,-1,-1,-1,5,-1,4\n",
    "-1,-1,3,-1,-1,4,-1\n",
    "1,3,7,6\n",
    "1,5,4,3\n",
    "6,7,3,2,1,5\n",
    "'''"
   ]
  },
  {
   "cell_type": "code",
   "execution_count": 115,
   "metadata": {},
   "outputs": [
    {
     "name": "stdout",
     "output_type": "stream",
     "text": [
      "7,3\n",
      "-1,6,9,8,7,-1,-1\n",
      "6,-1,2,-1,-1,-1,-1\n",
      "9,2,-1,6,-1,-1,3\n",
      "8,-1,6,-1,-1,-1,-1\n",
      "7,-1,-1,-1,-1,5,-1\n",
      "-1,-1,-1,-1,5,-1,4\n",
      "-1,-1,3,-1,-1,4,-1\n",
      "1,3,7,6\n",
      "1,5,4,3\n",
      "6,7,3,2,1,5\n"
     ]
    }
   ],
   "source": [
    "# Q5\n",
    "nm = [int(i) for i in input().split(\",\")]\n",
    "n = nm[0]\n",
    "m = nm[1]\n",
    "\n",
    "matrix = []\n",
    "for i in range(n):\n",
    "    a_list = [int(i) for i in input().split(\",\")]\n",
    "    matrix.append(a_list)\n",
    "\n",
    "test = []\n",
    "for i in range(m):\n",
    "    b_list = [int(i) for i in input().split(\",\")]\n",
    "    test.append(b_list)\n",
    "    \n",
    "distance = []\n",
    "for t in range(len(test)):\n",
    "    sum_road = 0\n",
    "    for c in range(len(test[t])):\n",
    "        if c == (len(test[t])-1):\n",
    "            break\n",
    "        i = test[t][c]\n",
    "        j = test[t][c+1]\n",
    "        if matrix[i-1][j-1] == -1:\n",
    "            sum_road = -1\n",
    "            break\n",
    "        else:\n",
    "            road = matrix[i-1][j-1]\n",
    "            sum_road = sum_road + road\n",
    "    \n",
    "    distance.append(sum_road)\n",
    "    \n",
    "\n",
    "s = ''\n",
    "for i in range(m):\n",
    "    if i == m-1:\n",
    "        s = s + str(distance[i])\n",
    "    else:\n",
    "        s = s + str(distance[i]) + ','\n",
    "\n",
    "print(s)"
   ]
  },
  {
   "cell_type": "code",
   "execution_count": 147,
   "metadata": {},
   "outputs": [],
   "source": [
    "s = ''\n",
    "for i in range(m):\n",
    "    if i == m-1:\n",
    "        s = s + str(distance[i])\n",
    "    else:\n",
    "        s = s + str(distance[i]) + ','"
   ]
  }
 ],
 "metadata": {
  "kernelspec": {
   "display_name": "Python 3",
   "language": "python",
   "name": "python3"
  },
  "language_info": {
   "codemirror_mode": {
    "name": "ipython",
    "version": 3
   },
   "file_extension": ".py",
   "mimetype": "text/x-python",
   "name": "python",
   "nbconvert_exporter": "python",
   "pygments_lexer": "ipython3",
   "version": "3.7.3"
  },
  "toc": {
   "base_numbering": 1,
   "nav_menu": {},
   "number_sections": true,
   "sideBar": true,
   "skip_h1_title": false,
   "title_cell": "Table of Contents",
   "title_sidebar": "Contents",
   "toc_cell": false,
   "toc_position": {},
   "toc_section_display": true,
   "toc_window_display": false
  }
 },
 "nbformat": 4,
 "nbformat_minor": 2
}
