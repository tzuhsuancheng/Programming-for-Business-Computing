{
 "cells": [
  {
   "cell_type": "markdown",
   "metadata": {},
   "source": [
    "## problem1"
   ]
  },
  {
   "cell_type": "code",
   "execution_count": 1,
   "metadata": {},
   "outputs": [
    {
     "name": "stdout",
     "output_type": "stream",
     "text": [
      "2017\n",
      "MOTHERS_DAY 2017-05-14\n",
      "GRANDPARENTS_DAY 2017-08-27\n",
      "ATAYALS_DAY 2017-08-25\n",
      "SAKIZAYAS_DAY 2017-10-06\n",
      "MLKINGS_DAY 2017-01-16\n"
     ]
    }
   ],
   "source": [
    "from datetime import datetime, timedelta   \n",
    "\n",
    "def findate(year, month, weekday, word):\n",
    "    weekday_dic = {\"Monday\": 0, \"Tuesday\": 1, \"Wednesday\": 2, \"Thursday\": 3,\n",
    "                       \"Friday\": 4, \"Saturday\": 5, \"Sunday\": 6}\n",
    "    \n",
    "    week_of_the_month = {\"1\": 1, \"2\": 2, \"3\": 3, \"4\": 4, \"5\": 5} # 5 means the last week\n",
    "\n",
    "    start_first_week = first_sunday = datetime(year, month, 1)\n",
    "    while start_first_week.weekday() != weekday_dic[weekday]:\n",
    "        start_first_week += timedelta(days=1)\n",
    "\n",
    "    start_first_week += timedelta(days=(week_of_the_month[word] - 1) * 7)\n",
    "    \n",
    "    if start_first_week.month != month:\n",
    "        start_first_week += timedelta(days=-7)\n",
    "\n",
    "    \n",
    "    find_date = \"%d-%02d-%02d\" % (start_first_week.year, start_first_week.month, start_first_week.day)\n",
    "    \n",
    "    return find_date\n",
    "\n",
    "\n",
    "year = int(input())\n",
    "\n",
    "print(\"MOTHERS_DAY %s\" % findate(year, 5, \"Sunday\", \"2\" ))\n",
    "print(\"GRANDPARENTS_DAY %s\" % findate(year, 8, \"Sunday\", \"4\" ))\n",
    "print(\"ATAYALS_DAY %s\" % findate(year, 8, \"Friday\", \"5\" ))\n",
    "print(\"SAKIZAYAS_DAY %s\" % findate(year, 10, \"Friday\", \"1\" ))\n",
    "print(\"MLKINGS_DAY %s\" % findate(year, 1, \"Monday\", \"3\" ))"
   ]
  },
  {
   "cell_type": "markdown",
   "metadata": {},
   "source": [
    "## problem2"
   ]
  },
  {
   "cell_type": "code",
   "execution_count": 3,
   "metadata": {},
   "outputs": [
    {
     "name": "stdout",
     "output_type": "stream",
     "text": [
      "hw7_ds1a.csv\n"
     ]
    },
    {
     "ename": "FileNotFoundError",
     "evalue": "[Errno 2] No such file or directory: 'hw7_ds1a.csv'",
     "output_type": "error",
     "traceback": [
      "\u001b[0;31m---------------------------------------------------------------------------\u001b[0m",
      "\u001b[0;31mFileNotFoundError\u001b[0m                         Traceback (most recent call last)",
      "\u001b[0;32m<ipython-input-3-d6de4a598091>\u001b[0m in \u001b[0;36m<module>\u001b[0;34m\u001b[0m\n\u001b[1;32m      1\u001b[0m \u001b[0;32mimport\u001b[0m \u001b[0mcsv\u001b[0m\u001b[0;34m\u001b[0m\u001b[0;34m\u001b[0m\u001b[0m\n\u001b[1;32m      2\u001b[0m \u001b[0mfh1\u001b[0m \u001b[0;34m=\u001b[0m \u001b[0minput\u001b[0m\u001b[0;34m(\u001b[0m\u001b[0;34m)\u001b[0m\u001b[0;34m\u001b[0m\u001b[0;34m\u001b[0m\u001b[0m\n\u001b[0;32m----> 3\u001b[0;31m \u001b[0mfh1\u001b[0m \u001b[0;34m=\u001b[0m \u001b[0mopen\u001b[0m\u001b[0;34m(\u001b[0m\u001b[0mfh1\u001b[0m\u001b[0;34m,\u001b[0m \u001b[0;34m'r'\u001b[0m\u001b[0;34m,\u001b[0m \u001b[0mnewline\u001b[0m \u001b[0;34m=\u001b[0m \u001b[0;34m''\u001b[0m\u001b[0;34m,\u001b[0m \u001b[0mencoding\u001b[0m\u001b[0;34m=\u001b[0m\u001b[0;34m'utf-8'\u001b[0m\u001b[0;34m)\u001b[0m\u001b[0;34m\u001b[0m\u001b[0;34m\u001b[0m\u001b[0m\n\u001b[0m\u001b[1;32m      4\u001b[0m \u001b[0mcsv1\u001b[0m \u001b[0;34m=\u001b[0m \u001b[0mcsv\u001b[0m\u001b[0;34m.\u001b[0m\u001b[0mDictReader\u001b[0m\u001b[0;34m(\u001b[0m\u001b[0mfh1\u001b[0m\u001b[0;34m)\u001b[0m\u001b[0;34m\u001b[0m\u001b[0;34m\u001b[0m\u001b[0m\n\u001b[1;32m      5\u001b[0m \u001b[0mcname1\u001b[0m \u001b[0;34m=\u001b[0m \u001b[0mcsv1\u001b[0m\u001b[0;34m.\u001b[0m\u001b[0mfieldnames\u001b[0m\u001b[0;34m\u001b[0m\u001b[0;34m\u001b[0m\u001b[0m\n",
      "\u001b[0;31mFileNotFoundError\u001b[0m: [Errno 2] No such file or directory: 'hw7_ds1a.csv'"
     ]
    }
   ],
   "source": [
    "import csv\n",
    "fh1 = input()\n",
    "fh1 = open(fh1, 'r', newline = '', encoding='utf-8')\n",
    "csv1 = csv.DictReader(fh1)\n",
    "cname1 = csv1.fieldnames\n",
    "d={}\n",
    "for aline in csv1:\n",
    "    if aline[cname1[0]] in d:\n",
    "        if float(aline[cname1[1]]) < float(d[aline[cname1[0]]]):\n",
    "            continue\n",
    "            \n",
    "    d[aline[cname1[0]]] = float(aline[cname1[1]].strip())\n",
    "\n",
    "key = sorted(d)\n",
    "    \n",
    "for k in key: \n",
    "    print(\"%s %0.1f\" % (k, d[k]))"
   ]
  },
  {
   "cell_type": "code",
   "execution_count": null,
   "metadata": {},
   "outputs": [],
   "source": []
  }
 ],
 "metadata": {
  "kernelspec": {
   "display_name": "Python 3",
   "language": "python",
   "name": "python3"
  },
  "language_info": {
   "codemirror_mode": {
    "name": "ipython",
    "version": 3
   },
   "file_extension": ".py",
   "mimetype": "text/x-python",
   "name": "python",
   "nbconvert_exporter": "python",
   "pygments_lexer": "ipython3",
   "version": "3.7.3"
  },
  "toc": {
   "base_numbering": 1,
   "nav_menu": {},
   "number_sections": true,
   "sideBar": true,
   "skip_h1_title": false,
   "title_cell": "Table of Contents",
   "title_sidebar": "Contents",
   "toc_cell": false,
   "toc_position": {},
   "toc_section_display": true,
   "toc_window_display": false
  }
 },
 "nbformat": 4,
 "nbformat_minor": 2
}
