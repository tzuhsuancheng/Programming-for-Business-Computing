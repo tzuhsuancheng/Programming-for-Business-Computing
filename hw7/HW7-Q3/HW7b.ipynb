{
 "cells": [
  {
   "cell_type": "code",
   "execution_count": 1,
   "metadata": {},
   "outputs": [
    {
     "data": {
      "text/plain": [
       "'\\n@author: Tzu\\n@date: 2019/5/1\\n@title: PBL hw7 第三題\\n'"
      ]
     },
     "execution_count": 1,
     "metadata": {},
     "output_type": "execute_result"
    }
   ],
   "source": [
    "'''\n",
    "@author: Tzu\n",
    "@date: 2019/5/1\n",
    "@title: PBL hw7 第三題\n",
    "'''"
   ]
  },
  {
   "cell_type": "markdown",
   "metadata": {},
   "source": [
    "## problem3\n",
    "- wrong answer 16/30\n",
    "- check the solution from file \"sol_q3.py\""
   ]
  },
  {
   "cell_type": "code",
   "execution_count": 94,
   "metadata": {},
   "outputs": [
    {
     "name": "stdout",
     "output_type": "stream",
     "text": [
      "testfile3.txt\n",
      "Ms.   lepera\n",
      "----Match 1\n",
      "    @103: \n",
      "    @104: “There’s no question in my mind that there has been a chilling effect,” Ms. Lepera said. “People have thrown a lot of weight behind this — more weight than it deserves. Defendants may be more inclined not to put up a fight.”\n",
      "    @105: \n"
     ]
    }
   ],
   "source": [
    "f = open(input(), \"r\", encoding='utf-8')\n",
    "searchlines = f.readlines()\n",
    "f.close()\n",
    "\n",
    "search = input()\n",
    "search = ' '.join(search.split())\n",
    "search = search.casefold()\n",
    "\n",
    "d = {}\n",
    "d_true = {}\n",
    "for i, line in enumerate(searchlines):\n",
    "    tmp = ' '.join(line.split())\n",
    "    d[i+1] = tmp.casefold()\n",
    "    d_true[i+1] = line\n",
    "    \n",
    "    \n",
    "tmp = {}\n",
    "d_search = {}\n",
    "\n",
    "i = 1\n",
    "for key,values in d.items():\n",
    "    if search in values:\n",
    "        if key == len(d):\n",
    "            tmp = {}\n",
    "            tmp[key-1] = d_true[key-1]\n",
    "            tmp[key] = d_true[key]\n",
    "            tmp[key+1] = ''\n",
    "            d_search[i] = tmp\n",
    "            i = i+1\n",
    "            \n",
    "        elif key == 1:\n",
    "            tmp = {}\n",
    "            tmp[key-1] = ''\n",
    "            tmp[key] = d_true[key]\n",
    "            tmp[key+1] = d_true[key+1]\n",
    "            d_search[i] = tmp\n",
    "            i = i+1\n",
    "            \n",
    "        else:  \n",
    "            tmp = {}\n",
    "            tmp[key-1] = d_true[key-1]\n",
    "            tmp[key] = d_true[key]\n",
    "            tmp[key+1] = d_true[key+1]\n",
    "            d_search[i] = tmp\n",
    "            i = i+1\n",
    "    \n",
    "    \n",
    "for key,values in d_search.items():\n",
    "    print(\"----Match %s\" % key)\n",
    "    for k, v in d_search[key].items():\n",
    "        v = v.rstrip()\n",
    "        v = v.lstrip()\n",
    "        print(\"    @%s: %s\" % (k, v) )\n",
    "        "
   ]
  }
 ],
 "metadata": {
  "kernelspec": {
   "display_name": "Python 3",
   "language": "python",
   "name": "python3"
  },
  "language_info": {
   "codemirror_mode": {
    "name": "ipython",
    "version": 3
   },
   "file_extension": ".py",
   "mimetype": "text/x-python",
   "name": "python",
   "nbconvert_exporter": "python",
   "pygments_lexer": "ipython3",
   "version": "3.7.3"
  },
  "toc": {
   "base_numbering": 1,
   "nav_menu": {},
   "number_sections": true,
   "sideBar": true,
   "skip_h1_title": false,
   "title_cell": "Table of Contents",
   "title_sidebar": "Contents",
   "toc_cell": false,
   "toc_position": {},
   "toc_section_display": true,
   "toc_window_display": false
  }
 },
 "nbformat": 4,
 "nbformat_minor": 2
}
