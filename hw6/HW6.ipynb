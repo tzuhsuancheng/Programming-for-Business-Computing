{
 "cells": [
  {
   "cell_type": "markdown",
   "metadata": {},
   "source": [
    "## Question1a"
   ]
  },
  {
   "cell_type": "code",
   "execution_count": 1,
   "metadata": {},
   "outputs": [
    {
     "name": "stdout",
     "output_type": "stream",
     "text": [
      "3.2,4,3,9999.2,232.5\n",
      "3.2\n",
      "4\n",
      "3\n",
      "9999.2\n",
      "232.5\n"
     ]
    }
   ],
   "source": [
    "x = [i for i in input().split(\",\")]\n",
    "for i in x:\n",
    "    print(i)"
   ]
  },
  {
   "cell_type": "markdown",
   "metadata": {},
   "source": [
    "## Question1b"
   ]
  },
  {
   "cell_type": "code",
   "execution_count": 2,
   "metadata": {},
   "outputs": [
    {
     "name": "stdout",
     "output_type": "stream",
     "text": [
      "str10,\"str12, str13\",str14,\"str888,999\",str56\n",
      "str10\n",
      "\"str12, str13\"\n",
      "str14\n",
      "\"str888,999\"\n",
      "str56\n"
     ]
    }
   ],
   "source": [
    "# question2\n",
    "newDataArray =[]\n",
    "flagMeld = False\n",
    "for d in input().split(','):\n",
    "    if not flagMeld: \n",
    "        newDataArray.append(d) # adding\n",
    "    else: \n",
    "        newDataArray[-1] = newDataArray[-1] + ',' + d # melding instead of adding\n",
    "    if d != '':\n",
    "        if d[0] == '\"': flagMeld = True # open melding if start quotes\n",
    "        if d[-1] == '\"' and len(newDataArray[-1] )!= 1: flagMeld = False #close melding if end quotes\n",
    "        \n",
    "\n",
    "for i in newDataArray:\n",
    "    print(i)"
   ]
  },
  {
   "cell_type": "markdown",
   "metadata": {},
   "source": [
    "## Question2"
   ]
  },
  {
   "cell_type": "code",
   "execution_count": 4,
   "metadata": {},
   "outputs": [
    {
     "name": "stdout",
     "output_type": "stream",
     "text": [
      "A distinction is normally made in current linguistics between proper nouns and proper names. \n",
      "A distinction is normally made in current linguistics between proper nouns and proper names.\n"
     ]
    }
   ],
   "source": [
    "mystring = input()\n",
    "newstring = ' '.join(mystring.split())\n",
    "print(newstring)"
   ]
  },
  {
   "cell_type": "markdown",
   "metadata": {},
   "source": [
    "## Question3"
   ]
  },
  {
   "cell_type": "code",
   "execution_count": 5,
   "metadata": {},
   "outputs": [
    {
     "name": "stdout",
     "output_type": "stream",
     "text": [
      "Growth of consumer spending ranged from slight to moderate in most Districts, while auto sales were somewhat mixed, as activity has begun to drop off from previously high levels in some Districts.\n",
      "growth\n",
      "of\n",
      "consumer\n",
      "spending\n",
      "ranged\n",
      "from\n",
      "slight\n",
      "to\n",
      "moderate\n",
      "in\n",
      "most\n",
      "districts\n",
      "while\n",
      "auto\n",
      "sales\n",
      "were\n",
      "somewhat\n",
      "mixed\n",
      "as\n",
      "activity\n",
      "has\n",
      "begun\n",
      "to\n",
      "drop\n",
      "off\n",
      "from\n",
      "previously\n",
      "high\n",
      "levels\n",
      "in\n",
      "some\n",
      "districts\n"
     ]
    }
   ],
   "source": [
    "mystring = input()\n",
    "sepchar = ',\\'\";.!:()[]{}\\n\\r\\t=+/\\\\><'\n",
    "for i in sepchar:\n",
    "    mystring = mystring.replace(i,' ')\n",
    "\n",
    "mystring = mystring.lower()\n",
    "newstring = mystring.split()\n",
    "for i in newstring:\n",
    "    print(i)"
   ]
  },
  {
   "cell_type": "code",
   "execution_count": null,
   "metadata": {},
   "outputs": [],
   "source": []
  }
 ],
 "metadata": {
  "kernelspec": {
   "display_name": "Python 3",
   "language": "python",
   "name": "python3"
  },
  "language_info": {
   "codemirror_mode": {
    "name": "ipython",
    "version": 3
   },
   "file_extension": ".py",
   "mimetype": "text/x-python",
   "name": "python",
   "nbconvert_exporter": "python",
   "pygments_lexer": "ipython3",
   "version": "3.7.3"
  },
  "toc": {
   "base_numbering": 1,
   "nav_menu": {},
   "number_sections": true,
   "sideBar": true,
   "skip_h1_title": false,
   "title_cell": "Table of Contents",
   "title_sidebar": "Contents",
   "toc_cell": false,
   "toc_position": {},
   "toc_section_display": true,
   "toc_window_display": false
  }
 },
 "nbformat": 4,
 "nbformat_minor": 2
}
