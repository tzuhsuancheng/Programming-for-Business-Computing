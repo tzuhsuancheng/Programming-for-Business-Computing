{
 "cells": [
  {
   "cell_type": "markdown",
   "metadata": {},
   "source": [
    "## Question1"
   ]
  },
  {
   "cell_type": "code",
   "execution_count": 3,
   "metadata": {},
   "outputs": [
    {
     "name": "stdout",
     "output_type": "stream",
     "text": [
      "0.6\n",
      "1,2,3,4,5,6\n",
      "5.336064\n"
     ]
    }
   ],
   "source": [
    "def ewp(alpha, ylist):\n",
    "    \"\"\"\n",
    "\n",
    "    :param alpha: \n",
    "    :param ylist: \n",
    "    \"\"\"\n",
    "    if alpha > 1 or alpha < 0:\n",
    "        print(\"ERROR\")\n",
    "    elif len(ylist) < 5:\n",
    "        print(\"ERROR\")        \n",
    "    else:\n",
    "        z_0 = 0\n",
    "        for i in ylist:\n",
    "            y_pred = alpha * i + (1-alpha) * z_0\n",
    "            z_0 = y_pred\n",
    "                      \n",
    "        print(\"%0.6f\" % y_pred)\n",
    "\n",
    "\n",
    "alpha = float(input())\n",
    "ylist = [float(i) for i in input().split(\",\")]\n",
    "\n",
    "ewp(alpha, ylist)"
   ]
  },
  {
   "cell_type": "markdown",
   "metadata": {},
   "source": [
    "## Question2"
   ]
  },
  {
   "cell_type": "code",
   "execution_count": null,
   "metadata": {},
   "outputs": [],
   "source": [
    "# wrong answer 24/30\n",
    "# see file \"HW5 (2) 這哪是猜拳(ーー゛)\" for the correct solution\n",
    "def gen_random(problist, runif):\n",
    "    \"\"\"\n",
    "\n",
    "    :param problist:\n",
    "    :param runif:\n",
    "    \"\"\"\n",
    "\n",
    "    sum = 0\n",
    "    for i in problist:\n",
    "        sum = sum + i\n",
    "        if i < 0:\n",
    "            return \"DATA_ERROR\"\n",
    "\n",
    "    if (1 - sum) >= 0.000001 or sum > 1:\n",
    "        return \"DATA_ERROR\"\n",
    "\n",
    "    elif runif < 0 or runif > 1:\n",
    "        return \"DATA_ERROR\"\n",
    "\n",
    "    else:\n",
    "        tmp = 0.0\n",
    "        for i in range(len(problist)):\n",
    "            if i == 0:\n",
    "                if 0 <= runif <= problist[0]:\n",
    "                    return i\n",
    "\n",
    "            elif i == (len(problist) - 1):\n",
    "                if tmp < runif <= 1:\n",
    "                    return i\n",
    "\n",
    "            elif tmp < runif <= tmp + problist[i]:\n",
    "                return i\n",
    "\n",
    "            tmp = tmp + problist[i]\n",
    "\n",
    "    return len(problist)-1\n",
    "\n",
    "\n",
    "prob = [float(i) for i in input().split(\",\")]\n",
    "ru = float(input())\n",
    "\n",
    "out1 = gen_random(prob, ru)\n",
    "print(out1)"
   ]
  },
  {
   "cell_type": "markdown",
   "metadata": {},
   "source": [
    "## Question3a"
   ]
  },
  {
   "cell_type": "code",
   "execution_count": 4,
   "metadata": {},
   "outputs": [
    {
     "name": "stdout",
     "output_type": "stream",
     "text": [
      "60,70\n",
      "-15,0.1,0.15\n",
      "0.817574\n"
     ]
    }
   ],
   "source": [
    "import math\n",
    "def logit(x, coef):\n",
    "\n",
    "    c_0 = coef[0]\n",
    "    c_1 = coef[1]\n",
    "    c_2 = coef[2]\n",
    "    a_1 = x[0]\n",
    "    a_2 = x[1]\n",
    "\n",
    "    p = 1 / (1 + math.exp(-(c_0 + c_1 * a_1 + c_2 * a_2)))\n",
    "\n",
    "    print(\"%0.6f\" % p)\n",
    "\n",
    "\n",
    "x = [float(i) for i in input().split(\",\")]\n",
    "coef = [float(i) for i in input().split(\",\")]\n",
    "\n",
    "logit(x, coef)"
   ]
  },
  {
   "cell_type": "markdown",
   "metadata": {},
   "source": [
    "## Question3b"
   ]
  },
  {
   "cell_type": "code",
   "execution_count": 6,
   "metadata": {},
   "outputs": [
    {
     "name": "stdout",
     "output_type": "stream",
     "text": [
      "65,70\n",
      "-16,0.1,0.15\n",
      "1\n",
      "0.019660\n",
      "0.029487\n"
     ]
    }
   ],
   "source": [
    "import math\n",
    "\n",
    "def logit(x, coef):\n",
    "\n",
    "    c_0 = coef[0]\n",
    "    c_1 = coef[1]\n",
    "    c_2 = coef[2]\n",
    "    a_1 = x[0]\n",
    "    a_2 = x[1]\n",
    "\n",
    "    p = 1 / (1 + math.exp(-(c_0 + c_1 * a_1 + c_2 * a_2)))\n",
    "\n",
    "    return p\n",
    "\n",
    "def logit_margin(x, coef, w):\n",
    "\n",
    "\n",
    "    a_1 = x[0]\n",
    "    a_2 = x[1]\n",
    "\n",
    "    x1_w2 = [a_1 + w/2, a_2]\n",
    "    x1_w1 = [a_1 - w/2, a_2]\n",
    "    x2_w2 = [a_1, a_2 + w/2]\n",
    "    x2_w1 = [a_1, a_2 - w/2]\n",
    "\n",
    "    x_w_list = [[x1_w2, x1_w1], [x2_w2, x2_w1]]\n",
    "\n",
    "    margin = []\n",
    "\n",
    "    for i in x_w_list:\n",
    "\n",
    "        p2 = logit(i[0], coef)\n",
    "        p1 = logit(i[1], coef)\n",
    "\n",
    "        tmp = float((p2 - p1) / w)\n",
    "        margin.append(tmp)\n",
    "\n",
    "    print(\"%0.6f\" % margin[0])\n",
    "    print(\"%0.6f\" % margin[1])\n",
    "\n",
    "\n",
    "\n",
    "x = [float(i) for i in input().split(\",\")]\n",
    "coef = [float(i) for i in input().split(\",\")]\n",
    "w = float(input())\n",
    "\n",
    "logit_margin(x, coef, w)"
   ]
  }
 ],
 "metadata": {
  "kernelspec": {
   "display_name": "Python 3",
   "language": "python",
   "name": "python3"
  },
  "language_info": {
   "codemirror_mode": {
    "name": "ipython",
    "version": 3
   },
   "file_extension": ".py",
   "mimetype": "text/x-python",
   "name": "python",
   "nbconvert_exporter": "python",
   "pygments_lexer": "ipython3",
   "version": "3.7.3"
  },
  "toc": {
   "base_numbering": 1,
   "nav_menu": {},
   "number_sections": true,
   "sideBar": true,
   "skip_h1_title": false,
   "title_cell": "Table of Contents",
   "title_sidebar": "Contents",
   "toc_cell": false,
   "toc_position": {},
   "toc_section_display": true,
   "toc_window_display": false
  }
 },
 "nbformat": 4,
 "nbformat_minor": 2
}
